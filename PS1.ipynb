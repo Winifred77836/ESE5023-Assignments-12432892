{
 "cells": [
  {
   "cell_type": "code",
   "execution_count": 1,
   "id": "f0235326-fdf0-4092-8250-4af1fc5a8ff2",
   "metadata": {},
   "outputs": [
    {
     "name": "stdout",
     "output_type": "stream",
     "text": [
      "10 5 1\n",
      "5\n"
     ]
    }
   ],
   "source": [
    "#Assignments 01 by Yi Yang\n",
    "\n",
    "#1.Flowchart\n",
    "def print_values(a,b,c):\n",
    "    if a>b and b>c:\n",
    "        print(a,b,c)\n",
    "    elif a>b and b<c and a>c:\n",
    "        print(a,c,b)\n",
    "    elif a>b and b<c and a<c:\n",
    "        print(c,a,b)\n",
    "    else:\n",
    "        a<b and b<c\n",
    "        print(c,b,a)\n",
    "    #compute and print x+y-10z\n",
    "    print(a+b-10*c)\n",
    "print_values(10,5,1)"
   ]
  },
  {
   "cell_type": "code",
   "execution_count": 3,
   "id": "87161026-c163-4186-9717-04fd423d669c",
   "metadata": {},
   "outputs": [
    {
     "name": "stdin",
     "output_type": "stream",
     "text": [
      "输入一个正整数 3\n"
     ]
    },
    {
     "name": "stdout",
     "output_type": "stream",
     "text": [
      "[1, 2, 3]\n",
      "7\n"
     ]
    }
   ],
   "source": [
    "#2.Continuous ceiling functon\n",
    "N=int(input(\"输入一个正整数\"))\n",
    "#创建一个包含从1到N的正整数的列表\n",
    "New_List=[i for i in range(1,N+1)]\n",
    "print(New_List)\n",
    "import math\n",
    "def F(x):\n",
    "    return math.ceil(x/3)\n",
    "F(1)==1\n",
    "print(F(N)+2*N)"
   ]
  },
  {
   "cell_type": "code",
   "execution_count": 1,
   "id": "d110b86e-1cc3-4d5d-a88b-a5f604b25913",
   "metadata": {},
   "outputs": [
    {
     "name": "stdout",
     "output_type": "stream",
     "text": [
      "得到总和 60 的投掷方式有：1 种\n",
      "方式数量: [0, 0, 0, 0, 0, 4, 7, 18, 29, 84, 147, 278, 385, 647, 987, 1383, 1908, 2553, 3234, 4062, 4919, 5474, 6386, 6809, 7163, 7414, 7196, 6907, 6330, 5612, 4779, 3875, 3156, 2504, 1898, 1338, 973, 606, 394, 258, 136, 83, 35, 18, 8, 2, 0, 1, 0, 0, 0]\n",
      "达到方式数量最多的总和值是: 35 ，有7414 种方式.\n"
     ]
    }
   ],
   "source": [
    "#3.Dice rolling\n",
    "#3.1\n",
    "import random\n",
    "def rolling():\n",
    "    return random.randint(1, 6)\n",
    "# 定义函数计算得到特定总和 x 的投掷方式数量\n",
    "def find_number_of_ways(x):\n",
    "    count = 0\n",
    "    # 遍历所有可能的骰子点数组合\n",
    "    for dice1 in range(1, 7):\n",
    "        for dice2 in range(1, 7):\n",
    "            for dice3 in range(1, 7):\n",
    "                for dice4 in range(1, 7):\n",
    "                    for dice5 in range(1, 7):\n",
    "                        for dice6 in range(1, 7):\n",
    "                            for dice7 in range(1, 7):\n",
    "                                for dice8 in range(1, 7):\n",
    "                                    for dice9 in range(1, 7):\n",
    "                                        for dice10 in range(1, 7):\n",
    "                                            if (dice1 + dice2 + dice3 + dice4 + dice5 + dice6 + dice7 + dice8 + dice9 + dice10) == x:\n",
    "                                                count += 1\n",
    "    return count\n",
    "# 测试函数\n",
    "x = 60\n",
    "print(f\"得到总和 {x} 的投掷方式有：{find_number_of_ways(x)} 种\")\n",
    "\n",
    "#3.2\n",
    "def count_number_of_ways():\n",
    "    # 从10到60，共51种可能的总和值\n",
    "    ways = [0] * (60 - 10 + 1) \n",
    "    for _ in range(100000):\n",
    "        roll_results = [rolling() for _ in range(10)]  \n",
    "        total_sum = sum(roll_results)  # 计算总和\n",
    "        if 10 <= total_sum <= 60:  # 确保总和值在10到60之间\n",
    "            # 更新对应总和值的方式数量\n",
    "            ways[total_sum - 10] += 1  \n",
    "    return ways\n",
    "def find_max_ways(ways):\n",
    "    max_ways = max(ways)\n",
    "    max_sum = ways.index(max_ways) + 10  # 将索引转换回总和值\n",
    "    return max_sum, max_ways\n",
    "# 计算每种总和值的方式数量\n",
    "WAYs = count_number_of_ways()\n",
    "# 找出方式数量最多的总和值\n",
    "max_sum, max_ways = find_max_ways(WAYs)\n",
    "print(f\"方式数量: {WAYs}\")\n",
    "print(f\"达到方式数量最多的总和值是: {max_sum} ，有{max_ways} 种方式.\")"
   ]
  },
  {
   "cell_type": "code",
   "execution_count": 7,
   "id": "07d7a002-2785-44c0-88dd-77af7c28003c",
   "metadata": {
    "scrolled": true
   },
   "outputs": [
    {
     "name": "stdin",
     "output_type": "stream",
     "text": [
      "输入一个0-11之间的整数 3\n"
     ]
    },
    {
     "name": "stdout",
     "output_type": "stream",
     "text": [
      "[8, 9, 4]\n",
      "14.0\n"
     ]
    },
    {
     "data": {
      "image/png": "[encoded data removed]",
      "text/plain": [
       "<Figure size 640x480 with 1 Axes>"
      ]
     },
     "metadata": {},
     "output_type": "display_data"
    }
   ],
   "source": [
    "#4.Dynamic programming\n",
    "#4.1(通过查阅网页得知random.sample函数含义)\n",
    "import random\n",
    "N=int(input(\"输入一个0-11之间的整数\"))\n",
    "Random_integer=random.sample(range(11),N)\n",
    "print(Random_integer)\n",
    "\n",
    "#4.2(通过查阅网页得知itertools.combinations函数含义)\n",
    "import itertools\n",
    "#定义一个集合\n",
    "set={1,2,3}\n",
    "#设置一个列表储存所有子集\n",
    "All=[]\n",
    "n=len(set)\n",
    "#生成所有长度为i的子集\n",
    "for i in range(1,n+1):\n",
    "    New=list(itertools.combinations(set,i))\n",
    "    All.extend(New)\n",
    "#分别计算所有非空子集的平均值\n",
    "New2=[]\n",
    "for subset in All:\n",
    "    Average=sum(subset)/len(subset)\n",
    "    New2.append(Average)\n",
    "#计算所有子集平均值的总和\n",
    "Sum_averages=sum(New2)\n",
    "print(Sum_averages)\n",
    "\n",
    "#4.3\n",
    "import matplotlib.pyplot as plt\n",
    "# 计算总和平均值并存储到列表中\n",
    "Total_sum_averages = []\n",
    "for N in range(1, 101):\n",
    "    sum_numbers = sum(range(1, N + 1))\n",
    "    average = sum_numbers / N\n",
    "    Total_sum_averages.append(average)\n",
    "# 绘制 Total_sum_averages\n",
    "plt.plot(range(1, 101), Total_sum_averages)\n",
    "plt.xlabel('N')\n",
    "plt.ylabel('Sum Averages')\n",
    "plt.title('Sum Averages from N = 1 to 100')\n",
    "plt.show()"
   ]
  },
  {
   "cell_type": "markdown",
   "id": "f40bb8ba-cae8-43ea-b7a4-b48adcce87ba",
   "metadata": {},
   "source": [
    "绘制的图像可以看到随着 N 从 1 增加到 100，总和平均值呈现出一种逐渐上升的趋势，但上升的速度逐渐减缓。一开始，当 N 较小时，总和平均值增长较快，因为少量数字的总和相对较小，随着 N 的增加，新加入的数字对总和的影响逐渐减小，导致总和平均值的增长速度变慢。图像大致呈现出一条弯曲程度逐渐变小的曲线，趋近于一个稳定的值。这表明随着数字数量的不断增加，总和平均值会逐渐稳定在一个特定的数值附近。"
   ]
  },
  {
   "cell_type": "code",
   "execution_count": 9,
   "id": "5f547c06-f8bd-49cb-bc22-6c1d089556d8",
   "metadata": {},
   "outputs": [
    {
     "name": "stdin",
     "output_type": "stream",
     "text": [
      "输入行数N 3\n",
      "输入列数M 3\n"
     ]
    },
    {
     "name": "stdout",
     "output_type": "stream",
     "text": [
      "[1, 0, 1]\n",
      "[0, 0, 0]\n",
      "[1, 0, 1]\n",
      "从左上角到右下角的路径总数为：0，矩阵大小为3行3列。\n",
      "在1000次运行中，从左上角到右下角的路径总数的平均值为：0.315\n"
     ]
    }
   ],
   "source": [
    "#5.Path counting\n",
    "#5.1\n",
    "import random\n",
    "N=int(input(\"输入行数N\"))\n",
    "M=int(input(\"输入列数M\"))\n",
    "#创建一个空矩阵\n",
    "matrix=[]\n",
    "#创建N行、M列，每个单元格都随机填充0或1的矩阵\n",
    "for i in range(N):\n",
    "    ROW=[random.randint(0,1) for j in range(M)]\n",
    "    matrix.append(ROW)\n",
    "matrix[0][0]=1\n",
    "matrix[N-1][M-1]=1\n",
    "for row in matrix:\n",
    "    print(row)\n",
    "\n",
    "#5.2\n",
    "def Count_paths(matrix):\n",
    "    N = len(matrix)\n",
    "    M = len(matrix[0])\n",
    "    # 创建一个与原矩阵相同大小的矩阵，初始值全为 0\n",
    "    dp = [[0] * M for _ in range(N)]\n",
    "    dp[0][0] = 1 if matrix[0][0]==1 else 0\n",
    "    # 初始化第一行和第一列\n",
    "    for j in range(1, M):\n",
    "        if matrix[0][j] == 1:\n",
    "            dp[0][j] = dp[0][j - 1]\n",
    "    for i in range(1, N):\n",
    "        if matrix[i][0] == 1:\n",
    "            dp[i][0] = dp[i - 1][0]\n",
    "    # 计算路径总数\n",
    "    for i in range(1, N):\n",
    "        for j in range(1, M):\n",
    "           if matrix[i][j] == 1:\n",
    "                dp[i][j] = dp[i - 1][j] + dp[i][j - 1]\n",
    "    return dp[N - 1][M - 1]\n",
    "result = Count_paths(matrix)\n",
    "print(f\"从左上角到右下角的路径总数为：{result}，矩阵大小为{N}行{M}列。\")\n",
    "\n",
    "#5.3\n",
    "def create_matrix(N, M):\n",
    "    matrix = []\n",
    "    for i in range(N):\n",
    "        ROW = [random.randint(0, 1) for j in range(M)]\n",
    "        matrix.append(ROW)\n",
    "    matrix[0][0] = 1\n",
    "    matrix[N-1][M-1] = 1\n",
    "    return matrix\n",
    "def average(N,M,times):\n",
    "    total_paths=0\n",
    "    for _ in range(times):\n",
    "        matrix = create_matrix(N,M)\n",
    "        total_paths += Count_paths(matrix)\n",
    "    return total_paths / times\n",
    "# 设置N和M的值\n",
    "N = 10\n",
    "M = 8\n",
    "# 设置试验次数\n",
    "times = 1000\n",
    "# 计算平均路径数\n",
    "average_result = average(N, M, times)\n",
    "print(f\"在{times}次运行中，从左上角到右下角的路径总数的平均值为：{average_result}\")"
   ]
  }
 ],
 "metadata": {
  "kernelspec": {
   "display_name": "Python 3 (ipykernel)",
   "language": "python",
   "name": "python3"
  },
  "language_info": {
   "codemirror_mode": {
    "name": "ipython",
    "version": 3
   },
   "file_extension": ".py",
   "mimetype": "text/x-python",
   "name": "python",
   "nbconvert_exporter": "python",
   "pygments_lexer": "ipython3",
   "version": "3.12.4"
  }
 },
 "nbformat": 4,
 "nbformat_minor": 5
}
